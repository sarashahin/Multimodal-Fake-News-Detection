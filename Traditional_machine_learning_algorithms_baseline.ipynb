{
  "nbformat": 4,
  "nbformat_minor": 0,
  "metadata": {
    "colab": {
      "provenance": [],
      "machine_shape": "hm"
    },
    "kernelspec": {
      "name": "python3",
      "display_name": "Python 3"
    },
    "language_info": {
      "name": "python"
    },
    "accelerator": "GPU",
    "gpuClass": "premium"
  },
  "cells": [
    {
      "cell_type": "markdown",
      "source": [
        "import the necessary libraries."
      ],
      "metadata": {
        "id": "yxfc-BQttYAV"
      }
    },
    {
      "cell_type": "code",
      "execution_count": 2,
      "metadata": {
        "id": "YuHy8iD3pAaM"
      },
      "outputs": [],
      "source": [
        "# Import libraries\n",
        "import numpy as np\n",
        "import matplotlib\n",
        "import matplotlib.image as mpimg\n",
        "import pandas as pd\n",
        "import matplotlib.pyplot as plt\n",
        "from sklearn.feature_extraction.text import TfidfVectorizer\n",
        "import nltk\n",
        "from sklearn.feature_extraction.text import TfidfTransformer\n",
        "from nltk.corpus import stopwords\n",
        "from nltk import word_tokenize\n",
        "from nltk.stem.porter import PorterStemmer\n",
        "from nltk.stem import WordNetLemmatizer\n",
        "from sklearn.feature_extraction.text import CountVectorizer\n",
        "import re\n",
        "from tensorflow.keras.preprocessing.text import Tokenizer\n",
        "from sklearn.naive_bayes import MultinomialNB\n",
        "from sklearn.pipeline import Pipeline\n",
        "from sklearn.metrics import classification_report, accuracy_score, confusion_matrix\n",
        "from sklearn.linear_model import LogisticRegression\n",
        "from sklearn.ensemble import RandomForestClassifier\n",
        "from sklearn.svm import LinearSVC\n",
        "from sklearn.metrics import classification_report\n",
        "\n",
        "%matplotlib inline"
      ]
    },
    {
      "cell_type": "markdown",
      "source": [
        "load the data"
      ],
      "metadata": {
        "id": "-2q4fAy_0PRz"
      }
    },
    {
      "cell_type": "code",
      "source": [
        "import pandas as pd\n",
        "\n",
        "def load_data(file_path):\n",
        "    return pd.read_csv(file_path, sep='\\t')\n",
        "\n",
        "# with images multimodal\n",
        "train_data = load_data('/content/drive/MyDrive/multimodal_train.tsv')\n",
        "validation_data = load_data('/content/drive/MyDrive/multimodal_validate.tsv')\n",
        "test_data = load_data('/content/drive/MyDrive/multimodal_test_public.tsv')\n",
        "\n",
        "# with and without  images unimodal\n",
        "traindata_all = load_data('/content/drive/MyDrive/all_train.tsv')\n",
        "validata_all = load_data('/content/drive/MyDrive/all_validate.tsv')\n",
        "testdata_all = load_data('/content/drive/MyDrive/all_test_public.tsv')\n",
        "\n"
      ],
      "metadata": {
        "id": "SQu6lQ62w0g9"
      },
      "execution_count": 3,
      "outputs": []
    },
    {
      "cell_type": "markdown",
      "source": [
        "Check the number of train, vaidation and test instances in each dataset. The prettytable library to create a table and display the data"
      ],
      "metadata": {
        "id": "vppuq9OP4_7f"
      }
    },
    {
      "cell_type": "code",
      "source": [
        "from prettytable import PrettyTable\n",
        "\n",
        "# Create a table\n",
        "table = PrettyTable()\n",
        "\n",
        "# Add columns to the table\n",
        "table.field_names = [\"Data\", \"Train\", \"Validation\", \"Test\"]\n",
        "\n",
        "# Add rows to the table\n",
        "table.add_row([\"AllData unimodal instances\", len(traindata_all), len(validata_all), len(testdata_all)])\n",
        "table.add_row([\"Multimodal Data instances\", len(train_data), len(validation_data), len(test_data)])\n",
        "\n",
        "\n",
        "# Print the table\n",
        "print(table)\n",
        "\n"
      ],
      "metadata": {
        "colab": {
          "base_uri": "https://localhost:8080/"
        },
        "id": "KWlRkizTw0m2",
        "outputId": "7da342c7-8152-46e3-b30e-df6ac3d8e05a"
      },
      "execution_count": 4,
      "outputs": [
        {
          "output_type": "stream",
          "name": "stdout",
          "text": [
            "+----------------------------+--------+------------+-------+\n",
            "|            Data            | Train  | Validation |  Test |\n",
            "+----------------------------+--------+------------+-------+\n",
            "| AllData unimodal instances | 878218 |   92444    | 92444 |\n",
            "| Multimodal Data instances  | 564000 |   59342    | 59319 |\n",
            "+----------------------------+--------+------------+-------+\n"
          ]
        }
      ]
    },
    {
      "cell_type": "markdown",
      "source": [
        "Print the first 5 rows of the traindata dataframe in a tabular format."
      ],
      "metadata": {
        "id": "9vC17wZ95RKS"
      }
    },
    {
      "cell_type": "code",
      "source": [
        "print(train_data.head().to_string())\n"
      ],
      "metadata": {
        "colab": {
          "base_uri": "https://localhost:8080/"
        },
        "id": "KqCkchZGw0p_",
        "outputId": "b70ceb9c-359f-4ce4-fe1c-13ab1c24e78e"
      },
      "execution_count": 5,
      "outputs": [
        {
          "output_type": "stream",
          "name": "stdout",
          "text": [
            "           author                                                                                   clean_title   created_utc         domain  hasImage      id                                                                                                                                                   image_url linked_submission_id  num_comments  score          subreddit                                                                                         title  upvote_ratio  2_way_label  3_way_label  6_way_label\n",
            "0     Alexithymia  my walgreens offbrand mucinex was engraved with the letters mucinex but in a different order  1.551641e+09    i.imgur.com      True  awxhir  https://external-preview.redd.it/WylDbZrnbvZdBpgfa3ntxYf17CBHndiJWHylVm2j_nY.jpg?width=320&crop=smart&auto=webp&s=449659a10792de4d55c2f27d2176fdc8bc66e72a                  NaN           2.0     12  mildlyinteresting  My Walgreens offbrand Mucinex was engraved with the letters Mucinex but in a different order          0.84            1            0            0\n",
            "1        VIDCAs17                                                           this concerned sink with a tiny hat  1.534727e+09      i.redd.it      True  98pbid                                         https://preview.redd.it/wsfx0gp0f5h11.jpg?width=320&crop=smart&auto=webp&s=6267a3ae11e616453e129c58ae34635b98c4ab37                  NaN           2.0    119         pareidolia                                                           This concerned sink with a tiny hat          0.99            0            2            2\n",
            "2  prometheus1123                                                 hackers leak emails from uae ambassador to us  1.496511e+09  aljazeera.com      True  6f2cy5  https://external-preview.redd.it/6fNhdbc6K1vFAZX95ed-ZMLDlASqmpixvAxmXqHhfHs.jpg?width=320&crop=smart&auto=webp&s=f263f843e91b7dbea1d1157031f7ea0d555186ed                  NaN           1.0     44        neutralnews                                                 Hackers leak emails from UAE ambassador to US          0.92            1            0            0\n",
            "3             NaN                                                                      puppy taking in the view  1.471341e+09    i.imgur.com      True  4xypkv  https://external-preview.redd.it/HLtVNhTR6wtYtnvL8RKfmZFdKQ7tVz42WCiH3jSGiIk.jpg?width=320&crop=smart&auto=webp&s=2d60c452b15d7d86b46b65e06da9a6e42f10d5df                  NaN          26.0    250   photoshopbattles                                                            PsBattle: Puppy taking in the view          0.95            1            0            0\n",
            "4       3rikR3ith                                                          i found a face in my sheet music too  1.525318e+09      i.redd.it      True  8gnet9                                         https://preview.redd.it/ri7ut2wn8kv01.jpg?width=320&crop=smart&auto=webp&s=d44a419480c2073a2f0f3fa5f3701b308271331d                  NaN           2.0     13         pareidolia                                                         I found a face in my sheet music too!          0.84            0            2            2\n"
          ]
        }
      ]
    },
    {
      "cell_type": "code",
      "source": [
        "print(train_data[\"hasImage\"].dtype)"
      ],
      "metadata": {
        "id": "KOGWYikM8TcB"
      },
      "execution_count": null,
      "outputs": []
    },
    {
      "cell_type": "markdown",
      "source": [
        "Use the .sum() method to count the number of instances that have an image.\n",
        "\n",
        "The train, validation and test sets (that is, the multimodal_train, multimodal_vaidate and multimodal_test_pulic sets) all have corresponding images."
      ],
      "metadata": {
        "id": "7w2tIXuF7CIY"
      }
    },
    {
      "cell_type": "code",
      "source": [
        "print(\"Number of train instances that have images: \",train_data['hasImage'].sum())\n",
        "print(\"Number of validation instances that have images: \",validation_data['hasImage'].sum())\n",
        "print(\"Number of test instances that have images: \",test_data['hasImage'].sum())\n"
      ],
      "metadata": {
        "colab": {
          "base_uri": "https://localhost:8080/"
        },
        "id": "SIdorvdsw0wg",
        "outputId": "53763716-e1bb-44a9-ebf1-53e75b98fa4a"
      },
      "execution_count": 7,
      "outputs": [
        {
          "output_type": "stream",
          "name": "stdout",
          "text": [
            "Number of train instances that have images:  564000\n",
            "Number of validation instances that have images:  59342\n",
            "Number of test instances that have images:  59319\n"
          ]
        }
      ]
    },
    {
      "cell_type": "markdown",
      "source": [
        "Data contained in all_train, all_validate and all_test_public datasets. \n",
        "\n",
        "Unimodal datasets have no image"
      ],
      "metadata": {
        "id": "M_0HZ1We-Gpi"
      }
    },
    {
      "cell_type": "code",
      "source": [
        "train_no_image = (traindata_all['hasImage'] == False).sum()\n",
        "print(\"Number of train instances that don`t have images: \", train_no_image)\n",
        "\n",
        "validation_no_image = (validata_all['hasImage'] == False).sum()\n",
        "print(\"Number of validation instances that don`t have images: \", validation_no_image)\n",
        "\n",
        "test_no_image = (testdata_all['hasImage'] == False).sum()\n",
        "print(\"Number of test instances that don`t have images: \", test_no_image)\n"
      ],
      "metadata": {
        "colab": {
          "base_uri": "https://localhost:8080/"
        },
        "id": "W6agBpL8w0zn",
        "outputId": "7e920564-f24a-4fde-a35f-72f7b94368f1"
      },
      "execution_count": 8,
      "outputs": [
        {
          "output_type": "stream",
          "name": "stdout",
          "text": [
            "Number of train instances that don`t have images:  239117\n",
            "Number of validation instances that don`t have images:  25236\n",
            "Number of test instances that don`t have images:  25189\n"
          ]
        }
      ]
    },
    {
      "cell_type": "markdown",
      "source": [
        "Uses the dropna() method to remove rows with missing values for the clean_title column for all datasets:"
      ],
      "metadata": {
        "id": "ejpHC43GDLqB"
      }
    },
    {
      "cell_type": "code",
      "source": [
        "# MULTIMODAL DATASET\n",
        "# Train data with no missing values\n",
        "train_data = train_data.dropna(subset=['clean_title'])\n",
        "# Validation data with no missing values\n",
        "valid_data = validation_data.dropna(subset=['clean_title'])\n",
        "# Test data with no missing values\n",
        "test_data = test_data.dropna(subset=['clean_title'])\n",
        "\n",
        "# UNIMODAL DATASET\n",
        "all_train_data = traindata_all.dropna(subset=['clean_title'])\n",
        "# Validation data with no missing values\n",
        "all_valid_data = validata_all.dropna(subset=['clean_title'])\n",
        "# Test data with no missing values\n",
        "all_test_data = testdata_all.dropna(subset=['clean_title'])\n",
        "\n"
      ],
      "metadata": {
        "id": "BNhqdKyLw03y"
      },
      "execution_count": 9,
      "outputs": []
    },
    {
      "cell_type": "markdown",
      "source": [
        "Use the .loc accessor to select the necessary columns for the train_frame, train_labels, valid_frame, valid_labels, test_frame, and test_labels variables."
      ],
      "metadata": {
        "id": "Mv2s-SAJDVkT"
      }
    },
    {
      "cell_type": "code",
      "source": [
        "# MULTIMODAL DATASET\n",
        "# Train data (text and labels)\n",
        "train_frame = train_data.loc[:, 'clean_title']\n",
        "train_labels = train_data.loc[:, '6_way_label']\n",
        "# Validation data (text and labels)\n",
        "valid_frame = valid_data.loc[:, 'clean_title']\n",
        "valid_labels = valid_data.loc[:, '6_way_label']\n",
        "# Test data (text and labels)\n",
        "test_frame = test_data.loc[:, 'clean_title']\n",
        "test_labels = test_data.loc[:, '6_way_label']\n",
        "\n",
        "# UNIMODAL DATASET\n",
        "all_train_frame = all_train_data.loc[:, 'clean_title']\n",
        "all_train_labels = all_train_data.loc[:, '6_way_label']\n",
        "# Validation data (text and labels)\n",
        "all_valid_frame = all_valid_data.loc[:, 'clean_title']\n",
        "all_valid_labels = all_valid_data.loc[:, '6_way_label']\n",
        "# Test data (text and labels)\n",
        "all_test_frame = all_test_data.loc[:, 'clean_title']\n",
        "all_test_labels = all_test_data.loc[:, '6_way_label']\n"
      ],
      "metadata": {
        "id": "rZcFU23Q-oeS"
      },
      "execution_count": 10,
      "outputs": []
    },
    {
      "cell_type": "markdown",
      "source": [
        "**Class distribution for the unimodal dataset**\n",
        "\n",
        "Plot the class distribution for the multimodal and unimodal (all data) datastets."
      ],
      "metadata": {
        "id": "KCwdqlBWDcDK"
      }
    },
    {
      "cell_type": "markdown",
      "source": [
        "Unimodal (all data)"
      ],
      "metadata": {
        "id": "4Pz63p0bnCPJ"
      }
    },
    {
      "cell_type": "code",
      "source": [
        "import matplotlib.pyplot as plt\n",
        "\n",
        "# Create a 2x2 grid of subplots\n",
        "fig, ax = plt.subplots(nrows=1, ncols=3, figsize=(25,5))\n",
        "\n",
        "width = 0.3\n",
        "labels = ['True','Manipulated content','False connection','Satire','Misleading content','Imposter content']\n",
        "x_pos_labs = [i-width for i in range(1, len(labels)*2+1, 2)]\n",
        "color = ['green','orange','red','blue','purple','brown']\n",
        "\n",
        "# Plot the train_labels_all data on the first subplot\n",
        "ax[0].bar(x_pos_labs, height = all_train_labels.value_counts(), width = 2, color = color )\n",
        "ax[0].set_title(\"Train data (unimodal dataset)\")\n",
        "ax[0].set_xticks(x_pos_labs)\n",
        "ax[0].set_xticklabels(labels, rotation=73)\n",
        "\n",
        "# Plot the valid_labels_all data on the second subplot\n",
        "ax[1].bar(x_pos_labs, height = all_valid_labels.value_counts(), width = 2, color = color )\n",
        "ax[1].set_title(\"Validation data (unimodal dataset)\")\n",
        "ax[1].set_xticks(x_pos_labs)\n",
        "ax[1].set_xticklabels(labels, rotation=73)\n",
        "\n",
        "# Plot the test_labels_all data on the third subplot\n",
        "ax[2].bar(x_pos_labs, height = all_test_labels.value_counts(), width = 2, color = color )\n",
        "ax[2].set_title(\"Test data (unimodal dataset)\")\n",
        "ax[2].set_xticks(x_pos_labs)\n",
        "ax[2].set_xticklabels(labels, rotation=73)\n",
        "\n",
        "plt.show()\n"
      ],
      "metadata": {
        "colab": {
          "base_uri": "https://localhost:8080/",
          "height": 276
        },
        "id": "7aQVeLzX-oqe",
        "outputId": "28b6d5b0-1ea9-4a5e-ad24-a4f606c7fd0e"
      },
      "execution_count": 11,
      "outputs": [
        {
          "output_type": "display_data",
          "data": {
            "text/plain": [
              "<Figure size 1800x360 with 3 Axes>"
            ],
            "image/png": "[encoded data removed]"
          },
          "metadata": {
            "needs_background": "light"
          }
        }
      ]
    },
    {
      "cell_type": "markdown",
      "source": [
        "**Class distribution for the multimodal dataset**"
      ],
      "metadata": {
        "id": "rYGifaavnSt_"
      }
    },
    {
      "cell_type": "code",
      "source": [
        "import matplotlib.pyplot as plt\n",
        "\n",
        "# Create a 2x2 grid of subplots\n",
        "fig, ax = plt.subplots(nrows=1, ncols=3, figsize=(25,5))\n",
        "\n",
        "width = 0.3\n",
        "labels = ['True','Manipulated content','False connection','Satire','Misleading content','Imposter content']\n",
        "x_pos_labs = [i-width for i in range(1, len(labels)*2+1, 2)]\n",
        "color = ['green','orange','red','blue','purple','brown']\n",
        "\n",
        "# Plot the train_labels_all data on the first subplot\n",
        "ax[0].bar(x_pos_labs, height = train_labels.value_counts(), width = 2, color = color )\n",
        "ax[0].set_title(\"Train data (multimodal dataset)\")\n",
        "ax[0].set_xticks(x_pos_labs)\n",
        "ax[0].set_xticklabels(labels, rotation=73)\n",
        "\n",
        "# Plot the valid_labels_all data on the second subplot\n",
        "ax[1].bar(x_pos_labs, height = valid_labels.value_counts(), width = 2, color = color )\n",
        "ax[1].set_title(\"Validation data (multimodal dataset)\")\n",
        "ax[1].set_xticks(x_pos_labs)\n",
        "ax[1].set_xticklabels(labels, rotation=73)\n",
        "\n",
        "# Plot the test_labels_all data on the third subplot\n",
        "ax[2].bar(x_pos_labs, height = test_labels.value_counts(), width = 2, color = color )\n",
        "ax[2].set_title(\"Test data (multimodal dataset)\")\n",
        "ax[2].set_xticks(x_pos_labs)\n",
        "ax[2].set_xticklabels(labels, rotation=73)\n",
        "\n",
        "plt.show()"
      ],
      "metadata": {
        "colab": {
          "base_uri": "https://localhost:8080/",
          "height": 276
        },
        "id": "EVLdPjEUhNvH",
        "outputId": "b22dc4d3-bc4f-45fa-8945-1c3559d09408"
      },
      "execution_count": 12,
      "outputs": [
        {
          "output_type": "display_data",
          "data": {
            "text/plain": [
              "<Figure size 1800x360 with 3 Axes>"
            ],
            "image/png": "[encoded data removed]"
          },
          "metadata": {
            "needs_background": "light"
          }
        }
      ]
    },
    {
      "cell_type": "markdown",
      "source": [
        "**Multi-Class Text Classification**"
      ],
      "metadata": {
        "id": "7PsS5LdwuOoM"
      }
    },
    {
      "cell_type": "markdown",
      "source": [
        "uses a for loop to iterate through the different labels and calculate the proportion of each label in each data set.\n",
        "\n",
        "the data is being prepared for a multi-class text classification task. The code is extracting the \"clean_title\" and \"6_way_label\" columns from the train_data, valid_data, and test_data DataFrames. It then calculates the proportion of each label in the train_labels, valid_labels, and test_labels series. These proportions are stored in variables with names like \"train_0\" and \"validation_1\". These variables are then used to create a new DataFrame, proportion_data, which has columns for the label, the proportion of that label in the training data, the proportion of that label in the validation data, and the proportion of that label in the test data."
      ],
      "metadata": {
        "id": "TxWc0qYruJG0"
      }
    },
    {
      "cell_type": "code",
      "source": [
        "# Get series objects for the necessary columns\n",
        "train_frame = train_data[\"clean_title\"]\n",
        "train_labels = train_data[\"6_way_label\"]\n",
        "valid_frame = valid_data[\"clean_title\"]\n",
        "valid_labels = valid_data[\"6_way_label\"]\n",
        "test_frame = test_data[\"clean_title\"]\n",
        "test_labels = test_data[\"6_way_label\"]\n",
        "labels = ['True','Satire','False connection','Imposter content','Manipulated content','Misleading content']\n",
        "\n",
        "# Get proportions of each label in each data set\n",
        "data_sets = [train_labels, valid_labels, test_labels]\n",
        "proportions = []\n",
        "for data in data_sets:\n",
        "    proportion = []\n",
        "    for i in range(6):\n",
        "        proportion.append(sum(data == i)/len(data))\n",
        "    proportions.append(proportion)\n",
        "\n",
        "# Create dataframe with proportions\n",
        "d = {\"Label\":labels, \"Traindata\": proportions[0], \"Validata\": proportions[1], \"Testdata\": proportions[2]}\n",
        "proportion_data = pd.DataFrame(data = d)\n",
        "proportion_data"
      ],
      "metadata": {
        "colab": {
          "base_uri": "https://localhost:8080/",
          "height": 238
        },
        "id": "tArOdEkAhN35",
        "outputId": "5044d5f8-d59d-4de6-82a0-ca02005e847c"
      },
      "execution_count": 13,
      "outputs": [
        {
          "output_type": "execute_result",
          "data": {
            "text/plain": [
              "                 Label  Traindata  Validata  Testdata\n",
              "0                 True   0.393761  0.392976  0.396281\n",
              "1               Satire   0.059363  0.059334  0.059239\n",
              "2     False connection   0.190108  0.190034  0.190445\n",
              "3     Imposter content   0.020894  0.020862  0.020634\n",
              "4  Manipulated content   0.297619  0.300125  0.294543\n",
              "5   Misleading content   0.038255  0.036669  0.038858"
            ],
            "text/html": [
              "\n",
              "  <div id=\"df-aaf67e96-a197-451e-a16d-4d92806222f3\">\n",
              "    <div class=\"colab-df-container\">\n",
              "      <div>\n",
              "<style scoped>\n",
              "    .dataframe tbody tr th:only-of-type {\n",
              "        vertical-align: middle;\n",
              "    }\n",
              "\n",
              "    .dataframe tbody tr th {\n",
              "        vertical-align: top;\n",
              "    }\n",
              "\n",
              "    .dataframe thead th {\n",
              "        text-align: right;\n",
              "    }\n",
              "</style>\n",
              "<table border=\"1\" class=\"dataframe\">\n",
              "  <thead>\n",
              "    <tr style=\"text-align: right;\">\n",
              "      <th></th>\n",
              "      <th>Label</th>\n",
              "      <th>Traindata</th>\n",
              "      <th>Validata</th>\n",
              "      <th>Testdata</th>\n",
              "    </tr>\n",
              "  </thead>\n",
              "  <tbody>\n",
              "    <tr>\n",
              "      <th>0</th>\n",
              "      <td>True</td>\n",
              "      <td>0.393761</td>\n",
              "      <td>0.392976</td>\n",
              "      <td>0.396281</td>\n",
              "    </tr>\n",
              "    <tr>\n",
              "      <th>1</th>\n",
              "      <td>Satire</td>\n",
              "      <td>0.059363</td>\n",
              "      <td>0.059334</td>\n",
              "      <td>0.059239</td>\n",
              "    </tr>\n",
              "    <tr>\n",
              "      <th>2</th>\n",
              "      <td>False connection</td>\n",
              "      <td>0.190108</td>\n",
              "      <td>0.190034</td>\n",
              "      <td>0.190445</td>\n",
              "    </tr>\n",
              "    <tr>\n",
              "      <th>3</th>\n",
              "      <td>Imposter content</td>\n",
              "      <td>0.020894</td>\n",
              "      <td>0.020862</td>\n",
              "      <td>0.020634</td>\n",
              "    </tr>\n",
              "    <tr>\n",
              "      <th>4</th>\n",
              "      <td>Manipulated content</td>\n",
              "      <td>0.297619</td>\n",
              "      <td>0.300125</td>\n",
              "      <td>0.294543</td>\n",
              "    </tr>\n",
              "    <tr>\n",
              "      <th>5</th>\n",
              "      <td>Misleading content</td>\n",
              "      <td>0.038255</td>\n",
              "      <td>0.036669</td>\n",
              "      <td>0.038858</td>\n",
              "    </tr>\n",
              "  </tbody>\n",
              "</table>\n",
              "</div>\n",
              "      <button class=\"colab-df-convert\" onclick=\"convertToInteractive('df-aaf67e96-a197-451e-a16d-4d92806222f3')\"\n",
              "              title=\"Convert this dataframe to an interactive table.\"\n",
              "              style=\"display:none;\">\n",
              "        \n",
              "  <svg xmlns=\"http://www.w3.org/2000/svg\" height=\"24px\"viewBox=\"0 0 24 24\"\n",
              "       width=\"24px\">\n",
              "    <path d=\"M0 0h24v24H0V0z\" fill=\"none\"/>\n",
              "    <path d=\"M18.56 5.44l.94 2.06.94-2.06 2.06-.94-2.06-.94-.94-2.06-.94 2.06-2.06.94zm-11 1L8.5 8.5l.94-2.06 2.06-.94-2.06-.94L8.5 2.5l-.94 2.06-2.06.94zm10 10l.94 2.06.94-2.06 2.06-.94-2.06-.94-.94-2.06-.94 2.06-2.06.94z\"/><path d=\"M17.41 7.96l-1.37-1.37c-.4-.4-.92-.59-1.43-.59-.52 0-1.04.2-1.43.59L10.3 9.45l-7.72 7.72c-.78.78-.78 2.05 0 2.83L4 21.41c.39.39.9.59 1.41.59.51 0 1.02-.2 1.41-.59l7.78-7.78 2.81-2.81c.8-.78.8-2.07 0-2.86zM5.41 20L4 18.59l7.72-7.72 1.47 1.35L5.41 20z\"/>\n",
              "  </svg>\n",
              "      </button>\n",
              "      \n",
              "  <style>\n",
              "    .colab-df-container {\n",
              "      display:flex;\n",
              "      flex-wrap:wrap;\n",
              "      gap: 12px;\n",
              "    }\n",
              "\n",
              "    .colab-df-convert {\n",
              "      background-color: #E8F0FE;\n",
              "      border: none;\n",
              "      border-radius: 50%;\n",
              "      cursor: pointer;\n",
              "      display: none;\n",
              "      fill: #1967D2;\n",
              "      height: 32px;\n",
              "      padding: 0 0 0 0;\n",
              "      width: 32px;\n",
              "    }\n",
              "\n",
              "    .colab-df-convert:hover {\n",
              "      background-color: #E2EBFA;\n",
              "      box-shadow: 0px 1px 2px rgba(60, 64, 67, 0.3), 0px 1px 3px 1px rgba(60, 64, 67, 0.15);\n",
              "      fill: #174EA6;\n",
              "    }\n",
              "\n",
              "    [theme=dark] .colab-df-convert {\n",
              "      background-color: #3B4455;\n",
              "      fill: #D2E3FC;\n",
              "    }\n",
              "\n",
              "    [theme=dark] .colab-df-convert:hover {\n",
              "      background-color: #434B5C;\n",
              "      box-shadow: 0px 1px 3px 1px rgba(0, 0, 0, 0.15);\n",
              "      filter: drop-shadow(0px 1px 2px rgba(0, 0, 0, 0.3));\n",
              "      fill: #FFFFFF;\n",
              "    }\n",
              "  </style>\n",
              "\n",
              "      <script>\n",
              "        const buttonEl =\n",
              "          document.querySelector('#df-aaf67e96-a197-451e-a16d-4d92806222f3 button.colab-df-convert');\n",
              "        buttonEl.style.display =\n",
              "          google.colab.kernel.accessAllowed ? 'block' : 'none';\n",
              "\n",
              "        async function convertToInteractive(key) {\n",
              "          const element = document.querySelector('#df-aaf67e96-a197-451e-a16d-4d92806222f3');\n",
              "          const dataTable =\n",
              "            await google.colab.kernel.invokeFunction('convertToInteractive',\n",
              "                                                     [key], {});\n",
              "          if (!dataTable) return;\n",
              "\n",
              "          const docLinkHtml = 'Like what you see? Visit the ' +\n",
              "            '<a target=\"_blank\" href=https://colab.research.google.com/notebooks/data_table.ipynb>data table notebook</a>'\n",
              "            + ' to learn more about interactive tables.';\n",
              "          element.innerHTML = '';\n",
              "          dataTable['output_type'] = 'display_data';\n",
              "          await google.colab.output.renderOutput(dataTable, element);\n",
              "          const docLink = document.createElement('div');\n",
              "          docLink.innerHTML = docLinkHtml;\n",
              "          element.appendChild(docLink);\n",
              "        }\n",
              "      </script>\n",
              "    </div>\n",
              "  </div>\n",
              "  "
            ]
          },
          "metadata": {},
          "execution_count": 13
        }
      ]
    },
    {
      "cell_type": "markdown",
      "source": [
        "**Preprocessing**\n",
        "\n",
        "remove punctuations and numbers and also multiple spaces\n",
        "\n",
        "\n",
        "The 'series' data is converted to list using the tolist() method which is more efficient than the list() constructor.\n",
        "The string.punctuation constant is used to remove all punctuation characters from the text."
      ],
      "metadata": {
        "id": "aTc2907TdczK"
      }
    },
    {
      "cell_type": "code",
      "source": [
        "import re\n",
        "import string\n",
        "\n",
        "# Convert 'series' data to list\n",
        "\n",
        "## Texts ##\n",
        "\n",
        "# Train\n",
        "train_list = train_frame.tolist()\n",
        "# Valid\n",
        "valid_list = valid_frame.tolist()\n",
        "# Test\n",
        "test_list = test_frame.tolist()\n",
        "\n",
        "## Labels ##\n",
        "\n",
        "# Train\n",
        "train_labels_list = train_labels.tolist()\n",
        "# Valid\n",
        "valid_labels_list = valid_labels.tolist()\n",
        "# Test\n",
        "test_labels_list = test_labels.tolist()\n",
        "\n",
        "def preprocess_text(sen):\n",
        "    # Remove punctuations and numbers\n",
        "    sentence = re.sub('[{}]'.format(string.punctuation), '', sen)\n",
        "\n",
        "    # Removing multiple spaces\n",
        "    sentence = re.sub(r'\\s+', ' ', sentence)\n",
        "\n",
        "    return sentence\n",
        "\n",
        "# Remove puntuations and numbers and multiple spaces\n",
        "\n",
        "train_news_clean = []\n",
        "valid_news_clean = []\n",
        "test_news_clean = []\n",
        "\n",
        "# Train\n",
        "train_news_clean = [preprocess_text(new) for new in train_list]\n",
        "# Validation\n",
        "valid_news_clean = [preprocess_text(new) for new in valid_list]\n",
        "# Test\n",
        "test_news_clean = [preprocess_text(new) for new in test_list]\n",
        "\n"
      ],
      "metadata": {
        "id": "esRctG7Ow07d"
      },
      "execution_count": 14,
      "outputs": []
    },
    {
      "cell_type": "markdown",
      "source": [
        "Use multiprocessing to perform the tokenization and stopwords removal on multiple cores."
      ],
      "metadata": {
        "id": "h50vjU3mkYoS"
      }
    },
    {
      "cell_type": "code",
      "source": [
        "from nltk.corpus import stopwords\n",
        "import nltk\n",
        "nltk.download('punkt')\n",
        "\n",
        "nltk.download('stopwords')\n",
        "stop_words = set(stopwords.words('english'))\n",
        "\n",
        "# Function to remove stopwords\n",
        "def remove_stopwords_stem(text):\n",
        "  text = word_tokenize(text)\n",
        "  # Stop words removal\n",
        "  text = [word for word in text if word.lower() not in stop_words]\n",
        "  # Stemming\n",
        "  stemmer = PorterStemmer()\n",
        "  stemmed_text = [stemmer.stem(word) for word in text]\n",
        "  text_done = ' '.join(stemmed_text)\n",
        "  return text_done\n",
        "\n",
        "# Train stemmed\n",
        "train_stemmed = [remove_stopwords_stem(text) for text in train_news_clean]\n",
        "\n",
        "# Validation stemmed\n",
        "valid_stemmed = [remove_stopwords_stem(text) for text in valid_news_clean]\n",
        "\n",
        "# Test stemmed\n",
        "test_stemmed = [remove_stopwords_stem(text) for text in test_news_clean]"
      ],
      "metadata": {
        "colab": {
          "base_uri": "https://localhost:8080/"
        },
        "id": "YbQ7J6SpgJX7",
        "outputId": "50aa8e3b-e691-4b3e-88c0-a3118888b5fb"
      },
      "execution_count": 15,
      "outputs": [
        {
          "output_type": "stream",
          "name": "stderr",
          "text": [
            "[nltk_data] Downloading package punkt to /root/nltk_data...\n",
            "[nltk_data]   Unzipping tokenizers/punkt.zip.\n",
            "[nltk_data] Downloading package stopwords to /root/nltk_data...\n",
            "[nltk_data]   Unzipping corpora/stopwords.zip.\n"
          ]
        }
      ]
    },
    {
      "cell_type": "markdown",
      "source": [
        "First, the code imports the necessary libraries and sets up a stemmer and a set of stop words using the nltk library. The stemmer is used to stem words to their root form, while the stop words are commonly used words in a language that are removed from text in order to improve the performance of natural language processing tasks."
      ],
      "metadata": {
        "id": "a81PNCVelAXs"
      }
    },
    {
      "cell_type": "code",
      "source": [
        "import nltk\n",
        "nltk.download('omw-1.4')\n",
        "\n",
        "try:\n",
        "    nltk.data.find('wordnet')\n",
        "except LookupError:\n",
        "    nltk.download('wordnet')\n",
        "\n",
        "lemmatizer = WordNetLemmatizer()\n",
        "stop_words = set(stopwords.words('english'))\n",
        "\n",
        "def remove_stopwords_lem(text):\n",
        "    text = word_tokenize(text)\n",
        "    text = [word for word in text if word not in stop_words]\n",
        "    lemmatized_text = []\n",
        "    for word in text:\n",
        "        word1 = lemmatizer.lemmatize(word, pos = \"n\")\n",
        "        word2 = lemmatizer.lemmatize(word1, pos = \"v\")\n",
        "        word3 = lemmatizer.lemmatize(word2, pos = (\"a\"))\n",
        "        lemmatized_text.append(word3) \n",
        "    text_done = ' '.join(lemmatized_text)\n",
        "    return text_done\n",
        "\n",
        "train_lemmatized = list(map(remove_stopwords_lem, train_news_clean))\n",
        "valid_lemmatized = list(map(remove_stopwords_lem, valid_news_clean))\n",
        "test_lemmatized = list(map(remove_stopwords_lem, test_news_clean))\n"
      ],
      "metadata": {
        "colab": {
          "base_uri": "https://localhost:8080/"
        },
        "id": "hft4vxj0gJdH",
        "outputId": "006bb806-106d-437f-9bb7-3e43388f88ab"
      },
      "execution_count": 16,
      "outputs": [
        {
          "output_type": "stream",
          "name": "stderr",
          "text": [
            "[nltk_data] Downloading package omw-1.4 to /root/nltk_data...\n",
            "[nltk_data] Downloading package wordnet to /root/nltk_data...\n"
          ]
        }
      ]
    },
    {
      "cell_type": "markdown",
      "source": [
        "It is used in the 'classifier' step of the pipeline. The pipeline first performs feature extraction using the CountVectorizer and TfidfTransformer, and then trains the MultinomialNB classifier on the extracted features to make predictions."
      ],
      "metadata": {
        "id": "gKp8ARGK8MDS"
      }
    },
    {
      "cell_type": "markdown",
      "source": [
        "**Stemming**\n",
        "\n",
        "\n",
        "Multinomial Naive Bayes"
      ],
      "metadata": {
        "id": "Y07fUhsQCl22"
      }
    },
    {
      "cell_type": "code",
      "source": [
        "from sklearn.model_selection import GridSearchCV\n",
        "\n",
        "# Define the hyperparameter search space\n",
        "param_grid = {'vect__ngram_range': [(1, 1), (1, 2)],\n",
        "              'vect__min_df': [5, 10, 15],\n",
        "              'tfidf__sublinear_tf': [True, False],\n",
        "              'classifier__alpha': [0.1, 1, 10]}\n",
        "\n",
        "# Create pipeline\n",
        "pipe = Pipeline([('vect', CountVectorizer()), \n",
        "                 ('tfidf', TfidfTransformer()), \n",
        "                 ('classifier', MultinomialNB())])\n",
        "\n",
        "# Create the GridSearchCV object\n",
        "grid_search = GridSearchCV(pipe, param_grid, cv=5, n_jobs=-1, verbose=2)\n",
        "\n",
        "# Fit the GridSearchCV object to the data\n",
        "grid_search.fit(train_stemmed, train_labels_list)\n",
        "\n",
        "# Get the predictions on the validation data\n",
        "valid_predictions = grid_search.predict(valid_stemmed)\n",
        "\n",
        "# Compute the accuracy\n",
        "acc = accuracy_score(valid_labels_list, valid_predictions)\n",
        "\n",
        "print(\"Accuracy: \", acc)\n",
        "\n",
        "\n",
        "# Get the best hyperparameters\n",
        "best_params = grid_search.best_params_\n",
        "print(\"Best hyperparameters: \", best_params)\n",
        "\n",
        "# Get the best score\n",
        "best_score = grid_search.best_score_\n",
        "print(\"Best score: \", best_score)\n",
        "\n",
        "\n"
      ],
      "metadata": {
        "colab": {
          "base_uri": "https://localhost:8080/"
        },
        "id": "pnn7GanYgJfm",
        "outputId": "8d6c3869-192c-48d8-f126-b495c7d82e90"
      },
      "execution_count": 17,
      "outputs": [
        {
          "output_type": "stream",
          "name": "stdout",
          "text": [
            "Fitting 5 folds for each of 36 candidates, totalling 180 fits\n",
            "Accuracy:  0.6614202419871255\n",
            "Best hyperparameters:  {'classifier__alpha': 0.1, 'tfidf__sublinear_tf': True, 'vect__min_df': 5, 'vect__ngram_range': (1, 2)}\n",
            "Best score:  0.6561312056737588\n"
          ]
        }
      ]
    },
    {
      "cell_type": "markdown",
      "source": [
        "Logistic Regression"
      ],
      "metadata": {
        "id": "p0Cyn7AlCq2Z"
      }
    },
    {
      "cell_type": "code",
      "source": [
        "from sklearn.model_selection import GridSearchCV\n",
        "from sklearn.pipeline import Pipeline\n",
        "from sklearn.linear_model import LogisticRegression\n",
        "from sklearn.feature_extraction.text import CountVectorizer\n",
        "from sklearn.feature_extraction.text import TfidfTransformer\n",
        "from sklearn.metrics import accuracy_score\n",
        "\n",
        "# Define the pipeline\n",
        "Logistic_pipe = Pipeline([\n",
        "    ('vect', CountVectorizer()),\n",
        "    ('tfidf', TfidfTransformer()),\n",
        "    ('classifier', LogisticRegression(random_state = 3))\n",
        "])\n",
        "\n",
        "# Define the hyperparameter grid to search\n",
        "param_grid = {\n",
        "    'vect__ngram_range': [(1,1), (1,2)],\n",
        "    'vect__min_df': [5,10,15],\n",
        "    'tfidf__sublinear_tf': [True, False],\n",
        "    'classifier__solver': ['saga'],\n",
        "    'classifier__multi_class': ['ovr'],\n",
        "    'classifier__C': [0.1, 0.5, 1],\n",
        "}\n",
        "\n",
        "# Create the GridSearchCV object\n",
        "grid_search = GridSearchCV(Logistic_pipe, param_grid, cv=5, scoring='accuracy')\n",
        "\n",
        "# Fit the grid search to the data\n",
        "grid_search.fit(train_stemmed, train_labels_list)\n",
        "\n",
        "# Print the best hyperparameters\n",
        "print(\"Best hyperparameters: \", grid_search.best_params_)\n",
        "\n",
        "# Obtain the predictions on the validation set\n",
        "predictions = grid_search.predict(valid_stemmed)\n",
        "\n",
        "# Obtain the accuracy\n",
        "acc = accuracy_score(valid_labels_list, predictions)\n",
        "\n",
        "print(\"Accuracy: \", acc)\n",
        "\n",
        "# Get the best hyperparameters\n",
        "best_params = grid_search.best_params_\n",
        "print(\"Best hyperparameters: \", best_params)\n",
        "\n",
        "# Print the best score\n",
        "print(\"Best score: \", acc)\n",
        "\n"
      ],
      "metadata": {
        "id": "V809mms4gJi_",
        "colab": {
          "base_uri": "https://localhost:8080/"
        },
        "outputId": "faa9e087-8480-445e-a11a-5cdf420ff4cf"
      },
      "execution_count": 18,
      "outputs": [
        {
          "output_type": "stream",
          "name": "stdout",
          "text": [
            "Best hyperparameters:  {'classifier__C': 1, 'classifier__multi_class': 'ovr', 'classifier__solver': 'saga', 'tfidf__sublinear_tf': True, 'vect__min_df': 5, 'vect__ngram_range': (1, 2)}\n",
            "Accuracy:  0.7093458258906002\n",
            "Best hyperparameters:  {'classifier__C': 1, 'classifier__multi_class': 'ovr', 'classifier__solver': 'saga', 'tfidf__sublinear_tf': True, 'vect__min_df': 5, 'vect__ngram_range': (1, 2)}\n",
            "Best score:  0.7093458258906002\n"
          ]
        }
      ]
    },
    {
      "cell_type": "markdown",
      "source": [
        "Random Forest"
      ],
      "metadata": {
        "id": "LJhElqY4CzNj"
      }
    },
    {
      "cell_type": "code",
      "source": [
        "from sklearn.model_selection import GridSearchCV\n",
        "from sklearn.pipeline import Pipeline\n",
        "from sklearn.ensemble import RandomForestClassifier\n",
        "from sklearn.feature_extraction.text import CountVectorizer\n",
        "from sklearn.feature_extraction.text import TfidfTransformer\n",
        "from sklearn.metrics import accuracy_score\n",
        "\n",
        "# Define the pipeline\n",
        "Forest_pipe = Pipeline([\n",
        "    ('vect', CountVectorizer()),\n",
        "    ('tfidf', TfidfTransformer()),\n",
        "    ('classifier', RandomForestClassifier(random_state = 3))\n",
        "])\n",
        "\n",
        "# Define the hyperparameter grid to search\n",
        "param_grid = {\n",
        "    'vect__ngram_range': [(1,1), (1,2)],\n",
        "    'vect__min_df': [5,10,15],\n",
        "    'tfidf__sublinear_tf': [True, False],\n",
        "    'classifier__criterion': ['gini'],\n",
        "    'classifier__max_depth': [3, 4, 5],\n",
        "}\n",
        "\n",
        "# Create the GridSearchCV object\n",
        "grid_search = GridSearchCV(Forest_pipe, param_grid, cv=5, scoring='accuracy')\n",
        "\n",
        "# Fit the grid search to the data\n",
        "grid_search.fit(train_stemmed, train_labels_list)\n",
        "\n",
        "# Print the best hyperparameters\n",
        "print(\"Best hyperparameters: \", grid_search.best_params_)\n",
        "\n",
        "# Obtain the predictions on the validation set\n",
        "predictions = grid_search.predict(valid_stemmed)\n",
        "\n",
        "# Obtain the accuracy\n",
        "acc = accuracy_score(valid_labels_list, predictions)\n",
        "\n",
        "print(\"Accuracy: \", acc)\n",
        "\n",
        "# Print the best score\n",
        "print(\"Best score: \", acc)\n"
      ],
      "metadata": {
        "colab": {
          "base_uri": "https://localhost:8080/"
        },
        "id": "lgE-klMbjEA7",
        "outputId": "b3bbbd10-5edd-46c0-903a-eaa89ba1c91e"
      },
      "execution_count": 19,
      "outputs": [
        {
          "output_type": "stream",
          "name": "stdout",
          "text": [
            "Best hyperparameters:  {'classifier__criterion': 'gini', 'classifier__max_depth': 5, 'tfidf__sublinear_tf': True, 'vect__min_df': 5, 'vect__ngram_range': (1, 1)}\n",
            "Accuracy:  0.39301000977385325\n",
            "Best score:  0.39301000977385325\n"
          ]
        }
      ]
    },
    {
      "cell_type": "markdown",
      "source": [
        "LinearSVC"
      ],
      "metadata": {
        "id": "yX9x_n70C4wf"
      }
    },
    {
      "cell_type": "code",
      "source": [
        "\n",
        "from sklearn.model_selection import GridSearchCV\n",
        "\n",
        "# Define the pipeline\n",
        "SVC_pipe = Pipeline([\n",
        "    ('vect', CountVectorizer()),\n",
        "    ('tfidf', TfidfTransformer()),\n",
        "    ('classifier', LinearSVC(random_state = 3))\n",
        "])\n",
        "\n",
        "# Define the hyperparameter grid to search\n",
        "param_grid = {\n",
        "    'vect__ngram_range': [(1,1), (1,2)],\n",
        "    'vect__min_df': [5,10,15],\n",
        "    'tfidf__sublinear_tf': [True, False],\n",
        "    'classifier__max_iter': [1000, 1500, 2000, 2500, 3000],\n",
        "    'classifier__loss': ['squared_hinge']\n",
        "}\n",
        "\n",
        "# Create the GridSearchCV object\n",
        "grid_search = GridSearchCV(SVC_pipe, param_grid, cv=5, scoring='accuracy')\n",
        "\n",
        "# Fit the grid search to the data\n",
        "grid_search.fit(train_stemmed, train_labels_list)\n",
        "\n",
        "# Print the best hyperparameters\n",
        "print(\"Best hyperparameters: \", grid_search.best_params_)\n",
        "\n",
        "# Obtain the predictions on the validation set\n",
        "predictions = grid_search.predict(valid_stemmed)\n",
        "\n",
        "# Obtain the accuracy\n",
        "acc = accuracy_score(valid_labels_list, predictions)\n",
        "\n",
        "print(\"Accuracy: \", acc)\n",
        "\n",
        "# Get the best hyperparameters\n",
        "best_params = grid_search.best_params_\n",
        "print(\"Best hyperparameters: \", best_params)\n",
        "\n",
        "# Print the best score\n",
        "print(\"Best score: \", acc)"
      ],
      "metadata": {
        "colab": {
          "base_uri": "https://localhost:8080/"
        },
        "id": "QD7BGhTXe-vf",
        "outputId": "4697f522-6d52-4db5-88fa-8255096ccf2b"
      },
      "execution_count": 22,
      "outputs": [
        {
          "output_type": "stream",
          "name": "stdout",
          "text": [
            "Best hyperparameters:  {'classifier__loss': 'squared_hinge', 'classifier__max_iter': 1000, 'tfidf__sublinear_tf': True, 'vect__min_df': 5, 'vect__ngram_range': (1, 2)}\n",
            "Accuracy:  0.7205183512520643\n",
            "Best hyperparameters:  {'classifier__loss': 'squared_hinge', 'classifier__max_iter': 1000, 'tfidf__sublinear_tf': True, 'vect__min_df': 5, 'vect__ngram_range': (1, 2)}\n",
            "Best score:  0.7205183512520643\n"
          ]
        }
      ]
    },
    {
      "cell_type": "markdown",
      "source": [
        "Lemmatization\n",
        "\n",
        "Naive Bayes"
      ],
      "metadata": {
        "id": "S6qca38WiBp9"
      }
    },
    {
      "cell_type": "code",
      "source": [
        "from sklearn.model_selection import GridSearchCV\n",
        "\n",
        "# Define the pipeline\n",
        "Bayes_pipe = Pipeline([('vect', CountVectorizer()),\n",
        "                       ('tfidf', TfidfTransformer()),\n",
        "                       ('classifier', MultinomialNB())\n",
        "                      ])\n",
        "\n",
        "# Define the hyperparameter grid to search\n",
        "param_grid = {\n",
        "    'vect__ngram_range': [(1,1), (1,2)],\n",
        "    'vect__min_df': [5,10,15],\n",
        "    'tfidf__sublinear_tf': [True, False],\n",
        "}\n",
        "\n",
        "# Create the GridSearchCV object\n",
        "grid_search = GridSearchCV(Bayes_pipe, param_grid, cv=5, scoring='accuracy')\n",
        "\n",
        "# Fit the grid search to the data\n",
        "grid_search.fit(train_lemmatized, train_labels_list)\n",
        "\n",
        "# Print the best hyperparameters\n",
        "print(\"Best hyperparameters: \", grid_search.best_params_)\n",
        "\n",
        "# Obtain the predictions on the validation set\n",
        "predictions = grid_search.predict(valid_lemmatized)\n",
        "\n",
        "# Obtain the accuracy\n",
        "acc = accuracy_score(valid_labels_list, predictions)\n",
        "print(\"Accuracy: \", acc)\n",
        "\n",
        "# Print the best score\n",
        "print(\"Best score: \", acc)"
      ],
      "metadata": {
        "colab": {
          "base_uri": "https://localhost:8080/"
        },
        "id": "5u5Jd1BAfEVS",
        "outputId": "c231fa62-49a1-4e2e-e092-8c98101ce3c1"
      },
      "execution_count": 23,
      "outputs": [
        {
          "output_type": "stream",
          "name": "stdout",
          "text": [
            "Best hyperparameters:  {'tfidf__sublinear_tf': True, 'vect__min_df': 5, 'vect__ngram_range': (1, 2)}\n",
            "Accuracy:  0.650230865154528\n",
            "Best score:  0.650230865154528\n"
          ]
        }
      ]
    },
    {
      "cell_type": "markdown",
      "source": [
        "Logistic Regression"
      ],
      "metadata": {
        "id": "YFL-i9k8C_lf"
      }
    },
    {
      "cell_type": "code",
      "source": [
        "from sklearn.model_selection import GridSearchCV\n",
        "\n",
        "# Define the parameter grid\n",
        "param_grid = {'vect__ngram_range': [(1, 1), (1, 2)],\n",
        "              'vect__min_df': [5, 10, 15],\n",
        "              'tfidf__sublinear_tf': [True, False],\n",
        "              'classifier__solver': ['saga'],\n",
        "              'classifier__multi_class': ['ovr'],\n",
        "              'classifier__C': [0.1, 0.5, 1],\n",
        "              }\n",
        "\n",
        "# Create the pipeline\n",
        "Logistic_pipe = Pipeline([('vect', CountVectorizer()),\n",
        "                          ('tfidf', TfidfTransformer()),\n",
        "                          ('classifier', LogisticRegression(random_state = 3))])\n",
        "\n",
        "# Perform grid search\n",
        "grid_search = GridSearchCV(Logistic_pipe, param_grid, cv=5, scoring='accuracy')\n",
        "grid_search.fit(train_lemmatized, train_labels_list)\n",
        "\n",
        "# Best hyper-parameters\n",
        "print(\"Best hyper-parameters: \")\n",
        "print(grid_search.best_params_)\n",
        "\n",
        "# Best score\n",
        "print(\"Best score: \")\n",
        "print(grid_search.best_score_)\n",
        "\n",
        "# Obtain the accuracy\n",
        "acc = accuracy_score(valid_labels_list, predictions)\n",
        "print(\"Accuracy: \", acc)\n"
      ],
      "metadata": {
        "colab": {
          "base_uri": "https://localhost:8080/"
        },
        "id": "IenQFVoefEXz",
        "outputId": "3d79d07e-8e49-4a4c-c50a-f495ba1b7080"
      },
      "execution_count": 24,
      "outputs": [
        {
          "output_type": "stream",
          "name": "stdout",
          "text": [
            "Best hyper-parameters: \n",
            "{'classifier__C': 1, 'classifier__multi_class': 'ovr', 'classifier__solver': 'saga', 'tfidf__sublinear_tf': True, 'vect__min_df': 5, 'vect__ngram_range': (1, 2)}\n",
            "Best score: \n",
            "0.7056294326241135\n",
            "Accuracy:  0.650230865154528\n"
          ]
        }
      ]
    },
    {
      "cell_type": "markdown",
      "source": [
        "Random Forest"
      ],
      "metadata": {
        "id": "z6IrpuaRDGCO"
      }
    },
    {
      "cell_type": "code",
      "source": [
        "from sklearn.model_selection import GridSearchCV\n",
        "from sklearn.pipeline import Pipeline\n",
        "from sklearn.ensemble import RandomForestClassifier\n",
        "from sklearn.metrics import accuracy_score\n",
        "from sklearn.feature_extraction.text import CountVectorizer, TfidfTransformer\n",
        "import numpy as np\n",
        "\n",
        "# Define pipeline\n",
        "Forest_pipe = Pipeline([('vect', CountVectorizer()),\n",
        "                        ('tfidf', TfidfTransformer()),\n",
        "                        ('classifier', RandomForestClassifier(random_state=3))])\n",
        "\n",
        "# Define parameter grid\n",
        "param_grid = {\n",
        "    'vect__ngram_range': [(1, 1), (1, 2)],\n",
        "    'vect__min_df': [5, 10, 15],\n",
        "    'tfidf__sublinear_tf': [True, False],\n",
        "    'classifier__n_estimators': [100, 200, 300],\n",
        "    'classifier__criterion': ['gini'],\n",
        "    'classifier__max_depth': [3, 4, 5]\n",
        "}\n",
        "\n",
        "# Create GridSearchCV object\n",
        "grid_search = GridSearchCV(Forest_pipe, param_grid, cv=5, scoring='accuracy', n_jobs=-1)\n",
        "\n",
        "# Fit grid search\n",
        "grid_search.fit(train_lemmatized, train_labels_list)\n",
        "\n",
        "# Best hyper-parameters\n",
        "print(\"Best hyper-parameters: \")\n",
        "print(grid_search.best_params_)\n",
        "\n",
        "# Best score\n",
        "print(\"Best score: \")\n",
        "print(grid_search.best_score_)\n",
        "\n",
        "# Obtain the accuracy\n",
        "acc = accuracy_score(valid_labels_list, predictions)\n",
        "print(\"Accuracy: \", acc)\n"
      ],
      "metadata": {
        "colab": {
          "base_uri": "https://localhost:8080/"
        },
        "id": "bfiQPY7ofEab",
        "outputId": "c48b50e0-e4ff-4ee3-fce1-5bc89ee2f68d"
      },
      "execution_count": 25,
      "outputs": [
        {
          "output_type": "stream",
          "name": "stdout",
          "text": [
            "Best hyper-parameters: \n",
            "{'classifier__criterion': 'gini', 'classifier__max_depth': 5, 'classifier__n_estimators': 100, 'tfidf__sublinear_tf': True, 'vect__min_df': 15, 'vect__ngram_range': (1, 1)}\n",
            "Best score: \n",
            "0.39399290780141843\n",
            "Accuracy:  0.650230865154528\n"
          ]
        }
      ]
    },
    {
      "cell_type": "markdown",
      "source": [
        "Model Evaluation\n",
        "\n",
        "In the first step, the train and validation data sets are joined, as well as their labels. The model is then trained using a pipeline, which first applies the CountVectorizer to convert the text data into numerical feature vectors, followed by the TfidfTransformer to scale the feature values"
      ],
      "metadata": {
        "id": "x8jf83ECDKIQ"
      }
    },
    {
      "cell_type": "code",
      "source": [
        "from sklearn.pipeline import Pipeline\n",
        "from sklearn.naive_bayes import MultinomialNB\n",
        "from sklearn.feature_extraction.text import TfidfTransformer, CountVectorizer\n",
        "from sklearn.model_selection import GridSearchCV\n",
        "import numpy as np\n",
        "\n",
        "# Join train and validation sets\n",
        "training_stemmed = train_stemmed + valid_stemmed\n",
        "training_lemmatized =  train_lemmatized + valid_lemmatized\n",
        "\n",
        "# Joining train and validation labels\n",
        "training_labels = train_labels_list + valid_labels_list"
      ],
      "metadata": {
        "id": "_nP1E5d5slJt"
      },
      "execution_count": 26,
      "outputs": []
    },
    {
      "cell_type": "markdown",
      "source": [
        "Naive Bayes"
      ],
      "metadata": {
        "id": "QKqS8BLCDZVZ"
      }
    },
    {
      "cell_type": "code",
      "source": [
        "\n",
        "# Define the pipeline for Naive Bayes\n",
        "Bayes_pipe = Pipeline([('vect', CountVectorizer()),\n",
        "                            ('tfidf', TfidfTransformer()),('classifier', MultinomialNB() )])\n",
        "\n",
        "# Define the hyper-parameter grid for GridSearchCV\n",
        "param_grid = {\n",
        "    'vect__ngram_range': [(1,1),(1,2)],\n",
        "    'vect__min_df': [5,10,15],\n",
        "    'tfidf__sublinear_tf': [True, False]\n",
        "}\n",
        "\n",
        "# Initialize GridSearchCV\n",
        "grid_search = GridSearchCV(Bayes_pipe, param_grid, cv=5, scoring='accuracy', return_train_score=True)\n",
        "\n",
        "# Fit the GridSearchCV on the data\n",
        "grid_search.fit(training_stemmed, training_labels)\n",
        "\n",
        "# Best parameters and score\n",
        "print(\"Best parameters: \", grid_search.best_params_)\n",
        "print(\"Best score: \", grid_search.best_score_)\n",
        "\n",
        "# Evaluation of the best model on the test data\n",
        "predictions_Bayes_stem = grid_search.predict(test_stemmed)\n",
        "print(classification_report(np.array(test_labels_list).reshape(len(test_labels),1),predictions_Bayes_stem))\n"
      ],
      "metadata": {
        "colab": {
          "base_uri": "https://localhost:8080/"
        },
        "id": "4T1mFLD5fEdS",
        "outputId": "a978ac77-290d-469c-e221-597c9208aba2"
      },
      "execution_count": 27,
      "outputs": [
        {
          "output_type": "stream",
          "name": "stdout",
          "text": [
            "Best parameters:  {'tfidf__sublinear_tf': True, 'vect__min_df': 5, 'vect__ngram_range': (1, 2)}\n",
            "Best score:  0.6473268301831299\n",
            "              precision    recall  f1-score   support\n",
            "\n",
            "           0       0.61      0.90      0.73     23507\n",
            "           1       0.84      0.10      0.17      3514\n",
            "           2       0.72      0.44      0.55     11297\n",
            "           3       0.91      0.01      0.02      1224\n",
            "           4       0.69      0.66      0.68     17472\n",
            "           5       0.92      0.33      0.48      2305\n",
            "\n",
            "    accuracy                           0.65     59319\n",
            "   macro avg       0.78      0.41      0.44     59319\n",
            "weighted avg       0.69      0.65      0.62     59319\n",
            "\n"
          ]
        }
      ]
    },
    {
      "cell_type": "code",
      "source": [
        "# Confusion matrix\n",
        "print(confusion_matrix(np.array(test_labels).reshape(len(test_labels),1),predictions_Bayes_stem))"
      ],
      "metadata": {
        "colab": {
          "base_uri": "https://localhost:8080/"
        },
        "id": "wUr94Z0VfEgJ",
        "outputId": "45ba3abc-bfa1-45a0-c3fb-a078e57f1005"
      },
      "execution_count": 28,
      "outputs": [
        {
          "output_type": "stream",
          "name": "stdout",
          "text": [
            "[[21047    21   826     0  1605     8]\n",
            " [ 1927   334   213     0  1033     7]\n",
            " [ 4476    17  4994     0  1772    38]\n",
            " [  782     2    71    10   355     4]\n",
            " [ 5242    18   616     1 11584    11]\n",
            " [  979     6   230     0   334   756]]\n"
          ]
        }
      ]
    },
    {
      "cell_type": "markdown",
      "source": [
        "LinearSVC"
      ],
      "metadata": {
        "id": "OrSJ4pRmDdO4"
      }
    },
    {
      "cell_type": "code",
      "source": [
        "from sklearn.model_selection import GridSearchCV\n",
        "from sklearn.svm import LinearSVC\n",
        "\n",
        "\n",
        "\n",
        "# Train the model using the best parameters\n",
        "best_SVC_pipe = Pipeline([('vect', CountVectorizer(ngram_range=best_params['vect__ngram_range'], \n",
        "                                                   min_df=best_params['vect__min_df'])),\n",
        "                         ('tfidf', TfidfTransformer(sublinear_tf=best_params['tfidf__sublinear_tf'])),\n",
        "                         ('classifier', LinearSVC(random_state=3, max_iter=best_params['classifier__max_iter'], \n",
        "                                                   loss=best_params['classifier__loss']) )])\n",
        "best_SVC_pipe.fit(training_stemmed, training_labels)\n",
        "\n",
        "# Evaluation of the model\n",
        "predictions_SVC_stem = best_SVC_pipe.predict(test_stemmed)\n",
        "print(classification_report(np.array(test_labels).reshape(len(test_labels),1),predictions_SVC_stem))\n"
      ],
      "metadata": {
        "colab": {
          "base_uri": "https://localhost:8080/"
        },
        "id": "e6xhyWB7sqsX",
        "outputId": "d0881a84-6ddf-4330-fda1-62a76594b24e"
      },
      "execution_count": 36,
      "outputs": [
        {
          "output_type": "stream",
          "name": "stdout",
          "text": [
            "              precision    recall  f1-score   support\n",
            "\n",
            "           0       0.74      0.85      0.79     23507\n",
            "           1       0.57      0.27      0.37      3514\n",
            "           2       0.67      0.54      0.60     11297\n",
            "           3       0.54      0.15      0.23      1224\n",
            "           4       0.74      0.82      0.78     17472\n",
            "           5       0.75      0.55      0.64      2305\n",
            "\n",
            "    accuracy                           0.72     59319\n",
            "   macro avg       0.67      0.53      0.57     59319\n",
            "weighted avg       0.71      0.72      0.71     59319\n",
            "\n"
          ]
        }
      ]
    },
    {
      "cell_type": "code",
      "source": [
        "# Confusion matrix\n",
        "print(confusion_matrix(np.array(test_labels).reshape(len(test_labels),1),predictions_SVC_stem))"
      ],
      "metadata": {
        "colab": {
          "base_uri": "https://localhost:8080/"
        },
        "id": "ajL_RCSnsqus",
        "outputId": "e23a0c45-677b-483e-eef1-4e064fcb03f4"
      },
      "execution_count": 37,
      "outputs": [
        {
          "output_type": "stream",
          "name": "stdout",
          "text": [
            "[[19978   263  1418    59  1624   165]\n",
            " [ 1114   955   296    25  1064    60]\n",
            " [ 2946   158  6153    33  1905   102]\n",
            " [  642    38   130   183   203    28]\n",
            " [ 1878   194   984    26 14326    64]\n",
            " [  619    53   168    14   182  1269]]\n"
          ]
        }
      ]
    },
    {
      "cell_type": "code",
      "source": [],
      "metadata": {
        "id": "QFmkgkqguZDH"
      },
      "execution_count": null,
      "outputs": []
    },
    {
      "cell_type": "code",
      "source": [],
      "metadata": {
        "id": "v6avDBrzuZGK"
      },
      "execution_count": null,
      "outputs": []
    },
    {
      "cell_type": "code",
      "source": [],
      "metadata": {
        "id": "0bIpECi1uZJj"
      },
      "execution_count": null,
      "outputs": []
    },
    {
      "cell_type": "code",
      "source": [],
      "metadata": {
        "id": "Jtv2CQiMuZMu"
      },
      "execution_count": null,
      "outputs": []
    },
    {
      "cell_type": "code",
      "source": [],
      "metadata": {
        "id": "Lr5KdEUWuZPS"
      },
      "execution_count": null,
      "outputs": []
    },
    {
      "cell_type": "code",
      "source": [],
      "metadata": {
        "id": "crOXbeO0sqxT"
      },
      "execution_count": null,
      "outputs": []
    },
    {
      "cell_type": "code",
      "source": [],
      "metadata": {
        "id": "WU5KWtCmsq0K"
      },
      "execution_count": null,
      "outputs": []
    },
    {
      "cell_type": "code",
      "source": [],
      "metadata": {
        "id": "RczBahSMsq4n"
      },
      "execution_count": null,
      "outputs": []
    }
  ]
}